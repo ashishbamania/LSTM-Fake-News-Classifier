{
  "nbformat": 4,
  "nbformat_minor": 0,
  "metadata": {
    "colab": {
      "name": "FakeNewClassifierUsingLSTM.ipynb",
      "provenance": [],
      "collapsed_sections": []
    },
    "kernelspec": {
      "name": "python3",
      "display_name": "Python 3"
    },
    "language_info": {
      "name": "python"
    }
  },
  "cells": [
    {
      "cell_type": "code",
      "execution_count": null,
      "metadata": {
        "id": "J1QlWR0aPFGT"
      },
      "outputs": [],
      "source": [
        "import pandas as pd\n",
        "import os"
      ]
    },
    {
      "cell_type": "code",
      "source": [
        "!kaggle competitions download -c fake-news"
      ],
      "metadata": {
        "colab": {
          "base_uri": "https://localhost:8080/"
        },
        "id": "aMzw2nX6PSft",
        "outputId": "c3312406-568b-423b-9ecb-baa97bd5d3d6"
      },
      "execution_count": null,
      "outputs": [
        {
          "output_type": "stream",
          "name": "stdout",
          "text": [
            "Warning: Looks like you're using an outdated API Version, please consider updating (server 1.5.12 / client 1.5.4)\n",
            "Downloading submit.csv to /content\n",
            "  0% 0.00/40.6k [00:00<?, ?B/s]\n",
            "100% 40.6k/40.6k [00:00<00:00, 15.3MB/s]\n",
            "Downloading test.csv.zip to /content\n",
            " 53% 5.00M/9.42M [00:00<00:00, 25.8MB/s]\n",
            "100% 9.42M/9.42M [00:00<00:00, 37.4MB/s]\n",
            "Downloading train.csv.zip to /content\n",
            " 67% 25.0M/37.0M [00:00<00:00, 22.1MB/s]\n",
            "100% 37.0M/37.0M [00:01<00:00, 36.4MB/s]\n"
          ]
        }
      ]
    },
    {
      "cell_type": "code",
      "source": [
        "!unzip \"/content/train.csv.zip\""
      ],
      "metadata": {
        "id": "y_jb3iJ5PntI",
        "colab": {
          "base_uri": "https://localhost:8080/"
        },
        "outputId": "256fe748-9a15-4e0d-e07e-99f8da08bde1"
      },
      "execution_count": null,
      "outputs": [
        {
          "output_type": "stream",
          "name": "stdout",
          "text": [
            "Archive:  /content/train.csv.zip\n",
            "replace train.csv? [y]es, [n]o, [A]ll, [N]one, [r]ename: y\n",
            "  inflating: train.csv               \n"
          ]
        }
      ]
    },
    {
      "cell_type": "code",
      "source": [
        "df = pd.read_csv(\"/content/train.csv\")"
      ],
      "metadata": {
        "id": "_Z7bTAvKQAlJ"
      },
      "execution_count": null,
      "outputs": []
    },
    {
      "cell_type": "code",
      "source": [
        "df.head()"
      ],
      "metadata": {
        "colab": {
          "base_uri": "https://localhost:8080/",
          "height": 206
        },
        "id": "IYmbFWKCQHjj",
        "outputId": "198090d7-4626-42c4-a07d-9b4a53840d94"
      },
      "execution_count": null,
      "outputs": [
        {
          "output_type": "execute_result",
          "data": {
            "text/html": [
              "\n",
              "  <div id=\"df-77eab4fa-024e-4b16-82b4-472a90dfed01\">\n",
              "    <div class=\"colab-df-container\">\n",
              "      <div>\n",
              "<style scoped>\n",
              "    .dataframe tbody tr th:only-of-type {\n",
              "        vertical-align: middle;\n",
              "    }\n",
              "\n",
              "    .dataframe tbody tr th {\n",
              "        vertical-align: top;\n",
              "    }\n",
              "\n",
              "    .dataframe thead th {\n",
              "        text-align: right;\n",
              "    }\n",
              "</style>\n",
              "<table border=\"1\" class=\"dataframe\">\n",
              "  <thead>\n",
              "    <tr style=\"text-align: right;\">\n",
              "      <th></th>\n",
              "      <th>id</th>\n",
              "      <th>title</th>\n",
              "      <th>author</th>\n",
              "      <th>text</th>\n",
              "      <th>label</th>\n",
              "    </tr>\n",
              "  </thead>\n",
              "  <tbody>\n",
              "    <tr>\n",
              "      <th>0</th>\n",
              "      <td>0</td>\n",
              "      <td>House Dem Aide: We Didn’t Even See Comey’s Let...</td>\n",
              "      <td>Darrell Lucus</td>\n",
              "      <td>House Dem Aide: We Didn’t Even See Comey’s Let...</td>\n",
              "      <td>1</td>\n",
              "    </tr>\n",
              "    <tr>\n",
              "      <th>1</th>\n",
              "      <td>1</td>\n",
              "      <td>FLYNN: Hillary Clinton, Big Woman on Campus - ...</td>\n",
              "      <td>Daniel J. Flynn</td>\n",
              "      <td>Ever get the feeling your life circles the rou...</td>\n",
              "      <td>0</td>\n",
              "    </tr>\n",
              "    <tr>\n",
              "      <th>2</th>\n",
              "      <td>2</td>\n",
              "      <td>Why the Truth Might Get You Fired</td>\n",
              "      <td>Consortiumnews.com</td>\n",
              "      <td>Why the Truth Might Get You Fired October 29, ...</td>\n",
              "      <td>1</td>\n",
              "    </tr>\n",
              "    <tr>\n",
              "      <th>3</th>\n",
              "      <td>3</td>\n",
              "      <td>15 Civilians Killed In Single US Airstrike Hav...</td>\n",
              "      <td>Jessica Purkiss</td>\n",
              "      <td>Videos 15 Civilians Killed In Single US Airstr...</td>\n",
              "      <td>1</td>\n",
              "    </tr>\n",
              "    <tr>\n",
              "      <th>4</th>\n",
              "      <td>4</td>\n",
              "      <td>Iranian woman jailed for fictional unpublished...</td>\n",
              "      <td>Howard Portnoy</td>\n",
              "      <td>Print \\nAn Iranian woman has been sentenced to...</td>\n",
              "      <td>1</td>\n",
              "    </tr>\n",
              "  </tbody>\n",
              "</table>\n",
              "</div>\n",
              "      <button class=\"colab-df-convert\" onclick=\"convertToInteractive('df-77eab4fa-024e-4b16-82b4-472a90dfed01')\"\n",
              "              title=\"Convert this dataframe to an interactive table.\"\n",
              "              style=\"display:none;\">\n",
              "        \n",
              "  <svg xmlns=\"http://www.w3.org/2000/svg\" height=\"24px\"viewBox=\"0 0 24 24\"\n",
              "       width=\"24px\">\n",
              "    <path d=\"M0 0h24v24H0V0z\" fill=\"none\"/>\n",
              "    <path d=\"M18.56 5.44l.94 2.06.94-2.06 2.06-.94-2.06-.94-.94-2.06-.94 2.06-2.06.94zm-11 1L8.5 8.5l.94-2.06 2.06-.94-2.06-.94L8.5 2.5l-.94 2.06-2.06.94zm10 10l.94 2.06.94-2.06 2.06-.94-2.06-.94-.94-2.06-.94 2.06-2.06.94z\"/><path d=\"M17.41 7.96l-1.37-1.37c-.4-.4-.92-.59-1.43-.59-.52 0-1.04.2-1.43.59L10.3 9.45l-7.72 7.72c-.78.78-.78 2.05 0 2.83L4 21.41c.39.39.9.59 1.41.59.51 0 1.02-.2 1.41-.59l7.78-7.78 2.81-2.81c.8-.78.8-2.07 0-2.86zM5.41 20L4 18.59l7.72-7.72 1.47 1.35L5.41 20z\"/>\n",
              "  </svg>\n",
              "      </button>\n",
              "      \n",
              "  <style>\n",
              "    .colab-df-container {\n",
              "      display:flex;\n",
              "      flex-wrap:wrap;\n",
              "      gap: 12px;\n",
              "    }\n",
              "\n",
              "    .colab-df-convert {\n",
              "      background-color: #E8F0FE;\n",
              "      border: none;\n",
              "      border-radius: 50%;\n",
              "      cursor: pointer;\n",
              "      display: none;\n",
              "      fill: #1967D2;\n",
              "      height: 32px;\n",
              "      padding: 0 0 0 0;\n",
              "      width: 32px;\n",
              "    }\n",
              "\n",
              "    .colab-df-convert:hover {\n",
              "      background-color: #E2EBFA;\n",
              "      box-shadow: 0px 1px 2px rgba(60, 64, 67, 0.3), 0px 1px 3px 1px rgba(60, 64, 67, 0.15);\n",
              "      fill: #174EA6;\n",
              "    }\n",
              "\n",
              "    [theme=dark] .colab-df-convert {\n",
              "      background-color: #3B4455;\n",
              "      fill: #D2E3FC;\n",
              "    }\n",
              "\n",
              "    [theme=dark] .colab-df-convert:hover {\n",
              "      background-color: #434B5C;\n",
              "      box-shadow: 0px 1px 3px 1px rgba(0, 0, 0, 0.15);\n",
              "      filter: drop-shadow(0px 1px 2px rgba(0, 0, 0, 0.3));\n",
              "      fill: #FFFFFF;\n",
              "    }\n",
              "  </style>\n",
              "\n",
              "      <script>\n",
              "        const buttonEl =\n",
              "          document.querySelector('#df-77eab4fa-024e-4b16-82b4-472a90dfed01 button.colab-df-convert');\n",
              "        buttonEl.style.display =\n",
              "          google.colab.kernel.accessAllowed ? 'block' : 'none';\n",
              "\n",
              "        async function convertToInteractive(key) {\n",
              "          const element = document.querySelector('#df-77eab4fa-024e-4b16-82b4-472a90dfed01');\n",
              "          const dataTable =\n",
              "            await google.colab.kernel.invokeFunction('convertToInteractive',\n",
              "                                                     [key], {});\n",
              "          if (!dataTable) return;\n",
              "\n",
              "          const docLinkHtml = 'Like what you see? Visit the ' +\n",
              "            '<a target=\"_blank\" href=https://colab.research.google.com/notebooks/data_table.ipynb>data table notebook</a>'\n",
              "            + ' to learn more about interactive tables.';\n",
              "          element.innerHTML = '';\n",
              "          dataTable['output_type'] = 'display_data';\n",
              "          await google.colab.output.renderOutput(dataTable, element);\n",
              "          const docLink = document.createElement('div');\n",
              "          docLink.innerHTML = docLinkHtml;\n",
              "          element.appendChild(docLink);\n",
              "        }\n",
              "      </script>\n",
              "    </div>\n",
              "  </div>\n",
              "  "
            ],
            "text/plain": [
              "   id  ... label\n",
              "0   0  ...     1\n",
              "1   1  ...     0\n",
              "2   2  ...     1\n",
              "3   3  ...     1\n",
              "4   4  ...     1\n",
              "\n",
              "[5 rows x 5 columns]"
            ]
          },
          "metadata": {},
          "execution_count": 15
        }
      ]
    },
    {
      "cell_type": "code",
      "source": [
        "df = df.dropna()"
      ],
      "metadata": {
        "id": "p0EN4pfaQL2t"
      },
      "execution_count": null,
      "outputs": []
    },
    {
      "cell_type": "code",
      "source": [
        "X= df.drop('label', axis= 1)"
      ],
      "metadata": {
        "id": "vbUt4GF3QS95"
      },
      "execution_count": null,
      "outputs": []
    },
    {
      "cell_type": "code",
      "source": [
        "y = df['label']"
      ],
      "metadata": {
        "id": "LTFmOG9SQaaS"
      },
      "execution_count": null,
      "outputs": []
    },
    {
      "cell_type": "code",
      "source": [
        "X.shape"
      ],
      "metadata": {
        "colab": {
          "base_uri": "https://localhost:8080/"
        },
        "id": "pUpyYJ5aQcqL",
        "outputId": "ce8866bf-2780-4540-c7dd-db5421c18057"
      },
      "execution_count": null,
      "outputs": [
        {
          "output_type": "execute_result",
          "data": {
            "text/plain": [
              "(18285, 4)"
            ]
          },
          "metadata": {},
          "execution_count": 19
        }
      ]
    },
    {
      "cell_type": "code",
      "source": [
        "y.shape"
      ],
      "metadata": {
        "colab": {
          "base_uri": "https://localhost:8080/"
        },
        "id": "h-Ehf60QQewG",
        "outputId": "79909469-e102-42a9-a64d-9fe031e7f48a"
      },
      "execution_count": null,
      "outputs": [
        {
          "output_type": "execute_result",
          "data": {
            "text/plain": [
              "(18285,)"
            ]
          },
          "metadata": {},
          "execution_count": 20
        }
      ]
    },
    {
      "cell_type": "code",
      "source": [
        "from tensorflow.keras.layers import Embedding\n",
        "from tensorflow.keras.preprocessing.sequence import pad_sequences\n",
        "from tensorflow.keras.models import Sequential\n",
        "from tensorflow.keras.preprocessing.text import one_hot\n",
        "from tensorflow.keras.layers import LSTM, Dense, Dropout"
      ],
      "metadata": {
        "id": "uekO_D2BQf1z"
      },
      "execution_count": null,
      "outputs": []
    },
    {
      "cell_type": "code",
      "source": [
        "#Vocabulary size\n",
        "voc_size = 5000"
      ],
      "metadata": {
        "id": "rZATYqddQ6kx"
      },
      "execution_count": null,
      "outputs": []
    },
    {
      "cell_type": "markdown",
      "source": [
        "**One Hot Representation**"
      ],
      "metadata": {
        "id": "aAQTXaTcRHnb"
      }
    },
    {
      "cell_type": "code",
      "source": [
        "messages = X.copy()"
      ],
      "metadata": {
        "id": "adJ-WRb5RGuS"
      },
      "execution_count": null,
      "outputs": []
    },
    {
      "cell_type": "code",
      "source": [
        "messages.reset_index(inplace = True)\n",
        "# As we had dropped NaN values from X"
      ],
      "metadata": {
        "id": "CxMH5szrRTLV"
      },
      "execution_count": null,
      "outputs": []
    },
    {
      "cell_type": "code",
      "source": [
        "import nltk\n",
        "import re\n",
        "from nltk.corpus import stopwords\n",
        "nltk.download(\"stopwords\")"
      ],
      "metadata": {
        "colab": {
          "base_uri": "https://localhost:8080/"
        },
        "id": "tb3TvIUERWnf",
        "outputId": "f6619ab4-ca0c-463d-8d69-406a0b7b86ec"
      },
      "execution_count": null,
      "outputs": [
        {
          "output_type": "stream",
          "name": "stdout",
          "text": [
            "[nltk_data] Downloading package stopwords to /root/nltk_data...\n",
            "[nltk_data]   Unzipping corpora/stopwords.zip.\n"
          ]
        },
        {
          "output_type": "execute_result",
          "data": {
            "text/plain": [
              "True"
            ]
          },
          "metadata": {},
          "execution_count": 28
        }
      ]
    },
    {
      "cell_type": "code",
      "source": [
        "from nltk.stem.porter import PorterStemmer\n",
        "ps = PorterStemmer()"
      ],
      "metadata": {
        "id": "vGkZzO2iRjuG"
      },
      "execution_count": null,
      "outputs": []
    },
    {
      "cell_type": "code",
      "source": [
        "corpus = []\n",
        "\n",
        "for i in range(0, len(messages)):  \n",
        "  review = re.sub(\"[^a-zA-Z]\", \" \", messages['title'][i])\n",
        "  review = review.lower()\n",
        "  review = review.split()\n",
        "  review = [ps.stem(word) for word in review if not word in stopwords.words(\"english\")]\n",
        "  review = \" \".join(review)\n",
        "  corpus.append(review)"
      ],
      "metadata": {
        "id": "dycKpsmvRw0t"
      },
      "execution_count": null,
      "outputs": []
    },
    {
      "cell_type": "code",
      "source": [
        "corpus"
      ],
      "metadata": {
        "id": "soaN3q9lSNT2"
      },
      "execution_count": null,
      "outputs": []
    },
    {
      "cell_type": "code",
      "source": [
        "onehot_rep = [one_hot(words, voc_size) for words in corpus]"
      ],
      "metadata": {
        "id": "w4VKrNcLTGo1"
      },
      "execution_count": null,
      "outputs": []
    },
    {
      "cell_type": "code",
      "source": [
        "onehot_rep"
      ],
      "metadata": {
        "id": "E4aRQcaITZm7"
      },
      "execution_count": null,
      "outputs": []
    },
    {
      "cell_type": "markdown",
      "source": [
        "**Embedding Representation**"
      ],
      "metadata": {
        "id": "wwzFL5L1ThSe"
      }
    },
    {
      "cell_type": "code",
      "source": [
        "sent_length = 20\n",
        "embedded_docs = pad_sequences(onehot_rep, maxlen=sent_length, padding = \"pre\")"
      ],
      "metadata": {
        "id": "0uBoFpWZTaw_"
      },
      "execution_count": null,
      "outputs": []
    },
    {
      "cell_type": "code",
      "source": [
        "embedded_docs"
      ],
      "metadata": {
        "colab": {
          "base_uri": "https://localhost:8080/"
        },
        "id": "Po3w-S_0T16Y",
        "outputId": "e932b05a-1bd7-47f8-9550-b63e162ab4e2"
      },
      "execution_count": null,
      "outputs": [
        {
          "output_type": "execute_result",
          "data": {
            "text/plain": [
              "array([[   0,    0,    0, ..., 4321, 2286, 4517],\n",
              "       [   0,    0,    0, ..., 1002,  988,  829],\n",
              "       [   0,    0,    0, ..., 4616,  566, 3177],\n",
              "       ...,\n",
              "       [   0,    0,    0, ...,  421, 3280,  498],\n",
              "       [   0,    0,    0, ..., 2965, 4191, 2518],\n",
              "       [   0,    0,    0, ..., 2631, 4822, 3802]], dtype=int32)"
            ]
          },
          "metadata": {},
          "execution_count": 48
        }
      ]
    },
    {
      "cell_type": "markdown",
      "source": [
        "**Model Creation**"
      ],
      "metadata": {
        "id": "AK0ZMZJkT8uG"
      }
    },
    {
      "cell_type": "code",
      "source": [
        "embedding_vector_features = 40\n",
        "\n",
        "model= Sequential()\n",
        "model.add(Embedding(voc_size, embedding_vector_features, input_length=sent_length))\n",
        "model.add(Dropout(0.3))\n",
        "model.add(LSTM(100))\n",
        "model.add(Dropout(0.3))\n",
        "model.add(Dense(1, activation = \"sigmoid\"))\n",
        "model.compile(loss= \"binary_crossentropy\", optimizer=\"adam\", metrics= [\"accuracy\"])"
      ],
      "metadata": {
        "id": "nyVsDdShUCEi"
      },
      "execution_count": null,
      "outputs": []
    },
    {
      "cell_type": "code",
      "source": [
        "print(model.summary())"
      ],
      "metadata": {
        "colab": {
          "base_uri": "https://localhost:8080/"
        },
        "id": "REBKtaheUQSX",
        "outputId": "ca351736-1837-4f55-f806-166368c6285a"
      },
      "execution_count": null,
      "outputs": [
        {
          "output_type": "stream",
          "name": "stdout",
          "text": [
            "Model: \"sequential_6\"\n",
            "_________________________________________________________________\n",
            " Layer (type)                Output Shape              Param #   \n",
            "=================================================================\n",
            " embedding_6 (Embedding)     (None, 20, 40)            200000    \n",
            "                                                                 \n",
            " dropout_4 (Dropout)         (None, 20, 40)            0         \n",
            "                                                                 \n",
            " lstm_5 (LSTM)               (None, 100)               56400     \n",
            "                                                                 \n",
            " dropout_5 (Dropout)         (None, 100)               0         \n",
            "                                                                 \n",
            " dense_4 (Dense)             (None, 1)                 101       \n",
            "                                                                 \n",
            "=================================================================\n",
            "Total params: 256,501\n",
            "Trainable params: 256,501\n",
            "Non-trainable params: 0\n",
            "_________________________________________________________________\n",
            "None\n"
          ]
        }
      ]
    },
    {
      "cell_type": "code",
      "source": [
        "import numpy as np\n",
        "X_final = np.array(embedded_docs)\n",
        "y_final = np.array(y)"
      ],
      "metadata": {
        "id": "5Sne0O0eUgMM"
      },
      "execution_count": null,
      "outputs": []
    },
    {
      "cell_type": "code",
      "source": [
        "from sklearn.model_selection import train_test_split\n",
        "X_train, X_test, y_train, y_test = train_test_split(X_final, y_final , test_size = 0.3, random_state = 42)"
      ],
      "metadata": {
        "id": "YPNUg0GvU5t0"
      },
      "execution_count": null,
      "outputs": []
    },
    {
      "cell_type": "markdown",
      "source": [
        "**Model Training**"
      ],
      "metadata": {
        "id": "zoF2HVP3VUnw"
      }
    },
    {
      "cell_type": "code",
      "source": [
        "model.fit(X_train, y_train, validation_data=(X_test, y_test), epochs=20)"
      ],
      "metadata": {
        "colab": {
          "base_uri": "https://localhost:8080/"
        },
        "id": "-4zyEdr-VSRa",
        "outputId": "20b09908-521a-4e4c-f3d0-a6f9e97a60f9"
      },
      "execution_count": null,
      "outputs": [
        {
          "output_type": "stream",
          "name": "stdout",
          "text": [
            "Epoch 1/20\n",
            "400/400 [==============================] - 8s 19ms/step - loss: 0.1384 - accuracy: 0.9474 - val_loss: 0.1943 - val_accuracy: 0.9180\n",
            "Epoch 2/20\n",
            "400/400 [==============================] - 8s 19ms/step - loss: 0.1003 - accuracy: 0.9642 - val_loss: 0.2277 - val_accuracy: 0.9041\n",
            "Epoch 3/20\n",
            "400/400 [==============================] - 8s 19ms/step - loss: 0.0658 - accuracy: 0.9766 - val_loss: 0.2669 - val_accuracy: 0.9103\n",
            "Epoch 4/20\n",
            "400/400 [==============================] - 8s 19ms/step - loss: 0.0460 - accuracy: 0.9841 - val_loss: 0.2854 - val_accuracy: 0.9114\n",
            "Epoch 5/20\n",
            "400/400 [==============================] - 8s 20ms/step - loss: 0.0319 - accuracy: 0.9896 - val_loss: 0.3107 - val_accuracy: 0.9134\n",
            "Epoch 6/20\n",
            "400/400 [==============================] - 8s 19ms/step - loss: 0.0236 - accuracy: 0.9927 - val_loss: 0.3964 - val_accuracy: 0.9127\n",
            "Epoch 7/20\n",
            "400/400 [==============================] - 8s 20ms/step - loss: 0.0145 - accuracy: 0.9953 - val_loss: 0.4911 - val_accuracy: 0.9089\n",
            "Epoch 8/20\n",
            "400/400 [==============================] - 8s 20ms/step - loss: 0.0164 - accuracy: 0.9947 - val_loss: 0.4253 - val_accuracy: 0.9114\n",
            "Epoch 9/20\n",
            "400/400 [==============================] - 8s 19ms/step - loss: 0.0095 - accuracy: 0.9971 - val_loss: 0.5360 - val_accuracy: 0.9103\n",
            "Epoch 10/20\n",
            "400/400 [==============================] - 8s 20ms/step - loss: 0.0092 - accuracy: 0.9968 - val_loss: 0.5046 - val_accuracy: 0.9070\n",
            "Epoch 11/20\n",
            "400/400 [==============================] - 8s 20ms/step - loss: 0.0061 - accuracy: 0.9977 - val_loss: 0.5672 - val_accuracy: 0.9065\n",
            "Epoch 12/20\n",
            "400/400 [==============================] - 8s 19ms/step - loss: 0.0079 - accuracy: 0.9976 - val_loss: 0.5585 - val_accuracy: 0.9027\n",
            "Epoch 13/20\n",
            "400/400 [==============================] - 8s 20ms/step - loss: 0.0058 - accuracy: 0.9980 - val_loss: 0.5215 - val_accuracy: 0.9027\n",
            "Epoch 14/20\n",
            "400/400 [==============================] - 8s 20ms/step - loss: 0.0059 - accuracy: 0.9983 - val_loss: 0.5472 - val_accuracy: 0.9101\n",
            "Epoch 15/20\n",
            "400/400 [==============================] - 8s 20ms/step - loss: 0.0043 - accuracy: 0.9990 - val_loss: 0.6910 - val_accuracy: 0.9079\n",
            "Epoch 16/20\n",
            "400/400 [==============================] - 8s 20ms/step - loss: 0.0047 - accuracy: 0.9983 - val_loss: 0.5683 - val_accuracy: 0.8999\n",
            "Epoch 17/20\n",
            "400/400 [==============================] - 8s 19ms/step - loss: 0.0048 - accuracy: 0.9980 - val_loss: 0.6532 - val_accuracy: 0.9065\n",
            "Epoch 18/20\n",
            "400/400 [==============================] - 8s 19ms/step - loss: 0.0055 - accuracy: 0.9979 - val_loss: 0.5718 - val_accuracy: 0.9083\n",
            "Epoch 19/20\n",
            "400/400 [==============================] - 8s 19ms/step - loss: 0.0054 - accuracy: 0.9985 - val_loss: 0.6189 - val_accuracy: 0.9070\n",
            "Epoch 20/20\n",
            "400/400 [==============================] - 7s 18ms/step - loss: 0.0031 - accuracy: 0.9992 - val_loss: 0.7020 - val_accuracy: 0.9070\n"
          ]
        },
        {
          "output_type": "execute_result",
          "data": {
            "text/plain": [
              "<keras.callbacks.History at 0x7fa7cafbd650>"
            ]
          },
          "metadata": {},
          "execution_count": 99
        }
      ]
    },
    {
      "cell_type": "code",
      "source": [
        "y_pred = model.predict(X_test)\n",
        "y_pred = np.round(y_pred).astype(int)"
      ],
      "metadata": {
        "id": "IcnyKwm_VeZr"
      },
      "execution_count": null,
      "outputs": []
    },
    {
      "cell_type": "code",
      "source": [
        "from sklearn.metrics import accuracy_score"
      ],
      "metadata": {
        "id": "rXGpf9wqWigI"
      },
      "execution_count": null,
      "outputs": []
    },
    {
      "cell_type": "code",
      "source": [
        "accuracy = accuracy_score(y_test, y_pred)"
      ],
      "metadata": {
        "id": "HnlEiFXdW5Dy"
      },
      "execution_count": null,
      "outputs": []
    },
    {
      "cell_type": "code",
      "source": [
        "accuracy"
      ],
      "metadata": {
        "colab": {
          "base_uri": "https://localhost:8080/"
        },
        "id": "ufBUbjLdW-VS",
        "outputId": "6a910aac-f44d-4cfb-e34a-9dc40d5c488b"
      },
      "execution_count": null,
      "outputs": [
        {
          "output_type": "execute_result",
          "data": {
            "text/plain": [
              "0.907036091870215"
            ]
          },
          "metadata": {},
          "execution_count": 103
        }
      ]
    }
  ]
}